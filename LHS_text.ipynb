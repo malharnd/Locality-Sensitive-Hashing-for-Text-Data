{
 "cells": [
  {
   "cell_type": "code",
   "execution_count": 46,
   "metadata": {},
   "outputs": [],
   "source": [
    "from random import shuffle\n",
    "import numpy as np\n",
    "import re\n",
    "import pandas as pd\n",
    "import os \n",
    "from tqdm import tqdm\n",
    "import pickle\n",
    "import time"
   ]
  },
  {
   "cell_type": "code",
   "execution_count": 47,
   "metadata": {},
   "outputs": [],
   "source": [
    "def shingle(text, k):\n",
    "    \"\"\"\n",
    "    Generate shingles of length k from the given text.\n",
    "\n",
    "    Args:\n",
    "    - text (str): The input text.\n",
    "    - k (int): The length of each shingle.\n",
    "\n",
    "    Returns:\n",
    "    - set: A set containing unique shingles extracted from the text.\n",
    "    \"\"\"\n",
    "    shingle_set = []  \n",
    "    # Iterate through the text to generate shingles\n",
    "    for i in range(len(text) - k + 1):\n",
    "        shingle_set.append(text[i:i + k])  \n",
    "    return set(shingle_set) \n"
   ]
  },
  {
   "cell_type": "code",
   "execution_count": 48,
   "metadata": {},
   "outputs": [],
   "source": [
    "def binary_vector(vocabulary, text):\n",
    "    \"\"\"\n",
    "    Create a binary vector representing the presence of shingles in the text.\n",
    "    \"\"\"\n",
    "    binary_vector = np.zeros(len(vocabulary))  # Initialize a binary vector of zeros\n",
    "    # Iterate through the vocabulary and check if each shingle is present in the text\n",
    "    for i, shingle in enumerate(vocabulary):\n",
    "        if shingle in text:\n",
    "            binary_vector[i] = 1  # Set the corresponding index to 1 if the shingle is present\n",
    "    return binary_vector \n"
   ]
  },
  {
   "cell_type": "code",
   "execution_count": 49,
   "metadata": {},
   "outputs": [],
   "source": [
    "def create_single_permutation(vocabulary):\n",
    "    perm_vocab = list(range(1, len(vocabulary) + 1)) \n",
    "    shuffle(perm_vocab)  \n",
    "    return perm_vocab \n",
    "\n",
    "def create_mperm(vocabulary_len, n_perm):\n",
    "    \"\"\"\n",
    "        Create list containing multiple permutations of the vocabulary indices.\n",
    "    \"\"\"\n",
    "    hashes = []\n",
    "    # Generate n_perm permutations and append them to the list\n",
    "    for _ in range(n_perm):\n",
    "        hashes.append(create_single_permutation(vocabulary_len))\n",
    "    return hashes \n"
   ]
  },
  {
   "cell_type": "code",
   "execution_count": 50,
   "metadata": {},
   "outputs": [],
   "source": [
    "def create_hash(text_vector: list, vocabulary: set, minhash_func: list):\n",
    "    \"\"\"\n",
    "    Create a hash signature based on the text vector using minhash functions.\n",
    "\n",
    "    \"\"\"\n",
    "    signature = []  # Initialize the hash signature\n",
    "    for hash_func in minhash_func:  \n",
    "        for i in range(1, len(vocabulary) + 1): \n",
    "            idx = hash_func.index(i)  \n",
    "            signature_val = text_vector[idx]  \n",
    "            if signature_val == 1:  \n",
    "                signature.append(idx)  # Add the index to the hash signature\n",
    "                break  # Move to the next hash function\n",
    "    return signature  # Return the hash signature\n"
   ]
  },
  {
   "cell_type": "code",
   "execution_count": 51,
   "metadata": {},
   "outputs": [],
   "source": [
    "def split_bands(signature, n_bands):\n",
    "    \"\"\"\n",
    "    Split the signature matrix into bands.\n",
    "\n",
    "    \"\"\"\n",
    "    \n",
    "    # print signature with len == 0\n",
    "    if len(signature) == 0:\n",
    "        print(\"signature is empty\")\n",
    "        print(signature)\n",
    "    assert len(signature) % n_bands == 0  # Ensure that the length of the signature is divisible by the number of bands\n",
    "    n_rows = int(len(signature) / n_bands)  # Calculate the number of rows in each band\n",
    "    bands = []\n",
    "    # Split the signature matrix into bands\n",
    "    for i in range(0, n_bands * n_rows, n_rows):\n",
    "        bands.append(signature[i:i + n_rows])\n",
    "    return bands \n",
    "\n",
    "def compare_bands(band1, band2):\n",
    "    \"\"\"\n",
    "    Compare bands of two signature matrices.\n",
    "    \"\"\"\n",
    "    # Compare corresponding bands\n",
    "    for b1, b2 in zip(band1, band2):\n",
    "        if b1 == b2:  # Check if the bands match\n",
    "            return True \n",
    "    return False  # Return False if no matching band is found\n"
   ]
  },
  {
   "cell_type": "code",
   "execution_count": 52,
   "metadata": {},
   "outputs": [],
   "source": [
    "def create_shingles_lists(words, k):\n",
    "    \"\"\"\n",
    "    Create shingles lists for each address and update the vocabulary.\n",
    "\n",
    "    Args:\n",
    "    - addresses (array-like): A list of addresses or text data.\n",
    "    - k (int): The length of each shingle.\n",
    "\n",
    "    Returns:\n",
    "    - set: The vocabulary containing unique shingles.\n",
    "    - list: A list of shingles lists for each address.\n",
    "    \"\"\"\n",
    "    # Initialize the vocabulary\n",
    "    vocabulary = set()\n",
    "    # Create a list to store shingles for each address\n",
    "    shingles_lists = []\n",
    "\n",
    "    # Update vocabulary and create shingles for each address\n",
    "    for word in words:\n",
    "        shingles = shingle(word, k)\n",
    "        shingles_lists.append(list(shingles))  # Convert NumPy array to Python list\n",
    "        vocabulary.update(shingles)\n",
    "\n",
    "    return vocabulary, shingles_lists"
   ]
  },
  {
   "cell_type": "code",
   "execution_count": 53,
   "metadata": {},
   "outputs": [],
   "source": [
    "# Function to store LSH signatures for all input values\n",
    "def store_signatures_for_inputs(shingles_lists, k, vocabulary, minhash_func):\n",
    "    for i, shingles_list in enumerate(tqdm(shingles_lists)):\n",
    "        # Compute LSH for each address in the CSV\n",
    "        shingles = shingles_list\n",
    "        vector = binary_vector(vocabulary, shingles)\n",
    "        signature = create_hash(vector, vocabulary, minhash_func)\n",
    "        shingles_lists[i] = signature\n",
    "    \n",
    "    return shingles_lists"
   ]
  },
  {
   "cell_type": "code",
   "execution_count": 54,
   "metadata": {},
   "outputs": [],
   "source": [
    "# Function to compare LSH signature of input text with stored signatures\n",
    "def compare_with_stored_signatures(input_text, k, vocabulary, minhash_func,shingles_lists):\n",
    "    input_shingles = shingle(input_text, k)\n",
    "    input_vector = binary_vector(vocabulary, input_shingles)\n",
    "    input_signature = create_hash(input_vector, vocabulary, minhash_func)\n",
    "    \n",
    "    similar_texts = []\n",
    "    for i,shingles_sig in enumerate(shingles_lists):\n",
    "        # len of signature  == 0 return index and signature and skip\n",
    "        if len(shingles_sig) == 0:\n",
    "            continue\n",
    "        \n",
    "        if compare_bands(split_bands(input_signature, 10), split_bands(shingles_sig, 10)):\n",
    "            similar_texts.append(i)\n",
    "    \n",
    "    return similar_texts"
   ]
  },
  {
   "cell_type": "code",
   "execution_count": 55,
   "metadata": {},
   "outputs": [],
   "source": [
    "# lower and special characters\n",
    "def preprocess_text(text):\n",
    "    text = text.lower()\n",
    "    text = re.sub(r'[^a-z0-9]', ' ', text)\n",
    "    # remove extra spaces\n",
    "    text = re.sub(r'\\s+', ' ', text)\n",
    "    return text\n"
   ]
  },
  {
   "cell_type": "code",
   "execution_count": 56,
   "metadata": {},
   "outputs": [],
   "source": [
    "def find_similar_games(input_user_data, k, vocabulary, minhash_func, shingles_lists):\n",
    "    \"\"\"\n",
    "    Find similar games based on the input user data.\n",
    "    \n",
    "    \"\"\"\n",
    "    # Preprocess the input address\n",
    "    input_user_data = preprocess_text(input_user_data)\n",
    "\n",
    "    # Compare with stored signatures\n",
    "    similar_games = compare_with_stored_signatures(input_user_data, k, vocabulary, minhash_func, shingles_lists)\n",
    "    return similar_games\n"
   ]
  },
  {
   "cell_type": "code",
   "execution_count": 62,
   "metadata": {},
   "outputs": [
    {
     "data": {
      "text/html": [
       "<div>\n",
       "<style scoped>\n",
       "    .dataframe tbody tr th:only-of-type {\n",
       "        vertical-align: middle;\n",
       "    }\n",
       "\n",
       "    .dataframe tbody tr th {\n",
       "        vertical-align: top;\n",
       "    }\n",
       "\n",
       "    .dataframe thead th {\n",
       "        text-align: right;\n",
       "    }\n",
       "</style>\n",
       "<table border=\"1\" class=\"dataframe\">\n",
       "  <thead>\n",
       "    <tr style=\"text-align: right;\">\n",
       "      <th></th>\n",
       "      <th>id</th>\n",
       "      <th>game</th>\n",
       "      <th>purchase</th>\n",
       "      <th>hours</th>\n",
       "      <th>user</th>\n",
       "      <th>Pre_game</th>\n",
       "    </tr>\n",
       "  </thead>\n",
       "  <tbody>\n",
       "    <tr>\n",
       "      <th>0</th>\n",
       "      <td>151603712</td>\n",
       "      <td>The Elder Scrolls V Skyrim</td>\n",
       "      <td>purchase</td>\n",
       "      <td>1.0</td>\n",
       "      <td>0</td>\n",
       "      <td>the elder scrolls v skyrim</td>\n",
       "    </tr>\n",
       "    <tr>\n",
       "      <th>1</th>\n",
       "      <td>151603712</td>\n",
       "      <td>The Elder Scrolls V Skyrim</td>\n",
       "      <td>play</td>\n",
       "      <td>273.0</td>\n",
       "      <td>0</td>\n",
       "      <td>the elder scrolls v skyrim</td>\n",
       "    </tr>\n",
       "    <tr>\n",
       "      <th>2</th>\n",
       "      <td>151603712</td>\n",
       "      <td>Fallout 4</td>\n",
       "      <td>purchase</td>\n",
       "      <td>1.0</td>\n",
       "      <td>0</td>\n",
       "      <td>fallout 4</td>\n",
       "    </tr>\n",
       "    <tr>\n",
       "      <th>3</th>\n",
       "      <td>151603712</td>\n",
       "      <td>Fallout 4</td>\n",
       "      <td>play</td>\n",
       "      <td>87.0</td>\n",
       "      <td>0</td>\n",
       "      <td>fallout 4</td>\n",
       "    </tr>\n",
       "    <tr>\n",
       "      <th>4</th>\n",
       "      <td>151603712</td>\n",
       "      <td>Spore</td>\n",
       "      <td>purchase</td>\n",
       "      <td>1.0</td>\n",
       "      <td>0</td>\n",
       "      <td>spore</td>\n",
       "    </tr>\n",
       "  </tbody>\n",
       "</table>\n",
       "</div>"
      ],
      "text/plain": [
       "          id                        game  purchase  hours  user   \n",
       "0  151603712  The Elder Scrolls V Skyrim  purchase    1.0     0  \\\n",
       "1  151603712  The Elder Scrolls V Skyrim      play  273.0     0   \n",
       "2  151603712                   Fallout 4  purchase    1.0     0   \n",
       "3  151603712                   Fallout 4      play   87.0     0   \n",
       "4  151603712                       Spore  purchase    1.0     0   \n",
       "\n",
       "                     Pre_game  \n",
       "0  the elder scrolls v skyrim  \n",
       "1  the elder scrolls v skyrim  \n",
       "2                   fallout 4  \n",
       "3                   fallout 4  \n",
       "4                       spore  "
      ]
     },
     "execution_count": 62,
     "metadata": {},
     "output_type": "execute_result"
    }
   ],
   "source": [
    "df = pd.read_csv('steam-100k.csv')\n",
    "\n",
    "#  Adding column names to the DataFrame\n",
    "df.reset_index(drop=True, inplace=True)\n",
    "\n",
    "df.head()\n"
   ]
  },
  {
   "cell_type": "code",
   "execution_count": 63,
   "metadata": {},
   "outputs": [
    {
     "data": {
      "text/html": [
       "<div>\n",
       "<style scoped>\n",
       "    .dataframe tbody tr th:only-of-type {\n",
       "        vertical-align: middle;\n",
       "    }\n",
       "\n",
       "    .dataframe tbody tr th {\n",
       "        vertical-align: top;\n",
       "    }\n",
       "\n",
       "    .dataframe thead th {\n",
       "        text-align: right;\n",
       "    }\n",
       "</style>\n",
       "<table border=\"1\" class=\"dataframe\">\n",
       "  <thead>\n",
       "    <tr style=\"text-align: right;\">\n",
       "      <th></th>\n",
       "      <th>id</th>\n",
       "      <th>game</th>\n",
       "      <th>purchase</th>\n",
       "      <th>hours</th>\n",
       "      <th>user</th>\n",
       "      <th>Pre_game</th>\n",
       "    </tr>\n",
       "  </thead>\n",
       "  <tbody>\n",
       "    <tr>\n",
       "      <th>0</th>\n",
       "      <td>151603712</td>\n",
       "      <td>The Elder Scrolls V Skyrim</td>\n",
       "      <td>purchase</td>\n",
       "      <td>1.0</td>\n",
       "      <td>0</td>\n",
       "      <td>the elder scrolls v skyrim</td>\n",
       "    </tr>\n",
       "    <tr>\n",
       "      <th>1</th>\n",
       "      <td>151603712</td>\n",
       "      <td>The Elder Scrolls V Skyrim</td>\n",
       "      <td>play</td>\n",
       "      <td>273.0</td>\n",
       "      <td>0</td>\n",
       "      <td>the elder scrolls v skyrim</td>\n",
       "    </tr>\n",
       "    <tr>\n",
       "      <th>2</th>\n",
       "      <td>151603712</td>\n",
       "      <td>Fallout 4</td>\n",
       "      <td>purchase</td>\n",
       "      <td>1.0</td>\n",
       "      <td>0</td>\n",
       "      <td>fallout 4</td>\n",
       "    </tr>\n",
       "    <tr>\n",
       "      <th>3</th>\n",
       "      <td>151603712</td>\n",
       "      <td>Fallout 4</td>\n",
       "      <td>play</td>\n",
       "      <td>87.0</td>\n",
       "      <td>0</td>\n",
       "      <td>fallout 4</td>\n",
       "    </tr>\n",
       "    <tr>\n",
       "      <th>4</th>\n",
       "      <td>151603712</td>\n",
       "      <td>Spore</td>\n",
       "      <td>purchase</td>\n",
       "      <td>1.0</td>\n",
       "      <td>0</td>\n",
       "      <td>spore</td>\n",
       "    </tr>\n",
       "  </tbody>\n",
       "</table>\n",
       "</div>"
      ],
      "text/plain": [
       "          id                        game  purchase  hours  user   \n",
       "0  151603712  The Elder Scrolls V Skyrim  purchase    1.0     0  \\\n",
       "1  151603712  The Elder Scrolls V Skyrim      play  273.0     0   \n",
       "2  151603712                   Fallout 4  purchase    1.0     0   \n",
       "3  151603712                   Fallout 4      play   87.0     0   \n",
       "4  151603712                       Spore  purchase    1.0     0   \n",
       "\n",
       "                     Pre_game  \n",
       "0  the elder scrolls v skyrim  \n",
       "1  the elder scrolls v skyrim  \n",
       "2                   fallout 4  \n",
       "3                   fallout 4  \n",
       "4                       spore  "
      ]
     },
     "execution_count": 63,
     "metadata": {},
     "output_type": "execute_result"
    }
   ],
   "source": [
    "# Preprocess the addresses on df new column names preprocessed_address\n",
    "df['Pre_game'] = df['game'].apply(preprocess_text)\n",
    "df.head()"
   ]
  },
  {
   "cell_type": "code",
   "execution_count": 64,
   "metadata": {},
   "outputs": [
    {
     "data": {
      "text/plain": [
       "array(['the elder scrolls v skyrim', 'the elder scrolls v skyrim',\n",
       "       'fallout 4', 'fallout 4', 'spore'], dtype=object)"
      ]
     },
     "execution_count": 64,
     "metadata": {},
     "output_type": "execute_result"
    }
   ],
   "source": [
    "# Extract the preprocessed game names from the DataFrame\n",
    "games = df['Pre_game'].values\n",
    "\n",
    "# Display the first few preprocessed game names\n",
    "games[:5]\n"
   ]
  },
  {
   "cell_type": "code",
   "execution_count": 65,
   "metadata": {},
   "outputs": [
    {
     "name": "stdout",
     "output_type": "stream",
     "text": [
      "694\n",
      "[['e ', 'sc', ' e', 'ky', 'sk', 'r ', 'ol', ' s', 'ro', 'ls', 'th', ' v', 'll', 'de', 's ', 'v ', 'im', 'he', 'er', 'ld', 'cr', 'yr', 'el', 'ri'], ['e ', 'sc', ' e', 'ky', 'sk', 'r ', 'ol', ' s', 'ro', 'ls', 'th', ' v', 'll', 'de', 's ', 'v ', 'im', 'he', 'er', 'ld', 'cr', 'yr', 'el', 'ri']]\n"
     ]
    }
   ],
   "source": [
    "# Update the vocabulary and create shingles lists for the data\n",
    "vocabulary, shingles_lists = create_shingles_lists(games, 2)\n",
    "# Create permutations for the vocabulary indices\n",
    "minhash_func = create_mperm((vocabulary), 50)\n",
    "print(len(vocabulary))\n",
    "print(shingles_lists[:2])"
   ]
  },
  {
   "cell_type": "code",
   "execution_count": 66,
   "metadata": {},
   "outputs": [
    {
     "name": "stderr",
     "output_type": "stream",
     "text": [
      "  0%|          | 0/100000 [00:00<?, ?it/s]"
     ]
    },
    {
     "name": "stderr",
     "output_type": "stream",
     "text": [
      "100%|██████████| 100000/100000 [19:09<00:00, 87.01it/s]\n"
     ]
    }
   ],
   "source": [
    "# Store signatures for inputs\n",
    "signatures = store_signatures_for_inputs(shingles_lists, 2, vocabulary, minhash_func)\n"
   ]
  },
  {
   "cell_type": "code",
   "execution_count": 67,
   "metadata": {},
   "outputs": [
    {
     "name": "stdout",
     "output_type": "stream",
     "text": [
      "LSH signatures saved to file.\n"
     ]
    }
   ],
   "source": [
    "# Save the shingles lists to a pickle file and also save the vocabulary and minhash functions\n",
    "with open('signatures_meta.pkl', 'wb') as f:\n",
    "    pickle.dump((vocabulary, minhash_func, signatures), f)\n",
    "    print(\"LSH signatures saved to file.\")\n"
   ]
  },
  {
   "cell_type": "code",
   "execution_count": 71,
   "metadata": {},
   "outputs": [
    {
     "name": "stdout",
     "output_type": "stream",
     "text": [
      "LSH signatures loaded from file.\n"
     ]
    }
   ],
   "source": [
    "# Load the vocabulary, minhash functions, and shingles lists from the pickle file\n",
    "with open('signatures_meta.pkl', 'rb') as f:\n",
    "    vocabulary_store, minhash_func_store, signatures_store = pickle.load(f)\n",
    "    print(\"LSH signatures loaded from file.\")"
   ]
  },
  {
   "cell_type": "code",
   "execution_count": 75,
   "metadata": {},
   "outputs": [
    {
     "name": "stdout",
     "output_type": "stream",
     "text": [
      "Total similar games found: 4770\n",
      "Time taken: 0.5688629150390625 seconds\n"
     ]
    }
   ],
   "source": [
    "\n",
    "# Example usage\n",
    "input_user_data = \"Dota\"\n",
    "# Preprocess the input address\n",
    "input_user_data = preprocess_text(input_user_data)\n",
    "# Time the function\n",
    "start_time = time.time()\n",
    "# Find similar games\n",
    "similar_games = find_similar_games(input_user_data, 2, vocabulary_store, minhash_func_store, signatures_store)\n",
    "end_time = time.time()\n",
    "# Length of similar games\n",
    "total_similar_games = len(similar_games)\n",
    "# Print the total number of similar games and the time taken\n",
    "print(f\"Total similar games found: {total_similar_games}\")\n",
    "print(f\"Time taken: {end_time - start_time:} seconds\")\n",
    "\n"
   ]
  },
  {
   "cell_type": "code",
   "execution_count": 76,
   "metadata": {},
   "outputs": [
    {
     "name": "stdout",
     "output_type": "stream",
     "text": [
      "(4770, 6)\n"
     ]
    },
    {
     "data": {
      "text/html": [
       "<div>\n",
       "<style scoped>\n",
       "    .dataframe tbody tr th:only-of-type {\n",
       "        vertical-align: middle;\n",
       "    }\n",
       "\n",
       "    .dataframe tbody tr th {\n",
       "        vertical-align: top;\n",
       "    }\n",
       "\n",
       "    .dataframe thead th {\n",
       "        text-align: right;\n",
       "    }\n",
       "</style>\n",
       "<table border=\"1\" class=\"dataframe\">\n",
       "  <thead>\n",
       "    <tr style=\"text-align: right;\">\n",
       "      <th></th>\n",
       "      <th>id</th>\n",
       "      <th>game</th>\n",
       "      <th>purchase</th>\n",
       "      <th>hours</th>\n",
       "      <th>user</th>\n",
       "      <th>Pre_game</th>\n",
       "    </tr>\n",
       "  </thead>\n",
       "  <tbody>\n",
       "    <tr>\n",
       "      <th>42</th>\n",
       "      <td>151603712</td>\n",
       "      <td>Dota 2</td>\n",
       "      <td>purchase</td>\n",
       "      <td>1.0</td>\n",
       "      <td>0</td>\n",
       "      <td>dota 2</td>\n",
       "    </tr>\n",
       "    <tr>\n",
       "      <th>43</th>\n",
       "      <td>151603712</td>\n",
       "      <td>Dota 2</td>\n",
       "      <td>play</td>\n",
       "      <td>0.5</td>\n",
       "      <td>0</td>\n",
       "      <td>dota 2</td>\n",
       "    </tr>\n",
       "    <tr>\n",
       "      <th>66</th>\n",
       "      <td>187131847</td>\n",
       "      <td>Dota 2</td>\n",
       "      <td>purchase</td>\n",
       "      <td>1.0</td>\n",
       "      <td>0</td>\n",
       "      <td>dota 2</td>\n",
       "    </tr>\n",
       "    <tr>\n",
       "      <th>67</th>\n",
       "      <td>187131847</td>\n",
       "      <td>Dota 2</td>\n",
       "      <td>play</td>\n",
       "      <td>2.3</td>\n",
       "      <td>0</td>\n",
       "      <td>dota 2</td>\n",
       "    </tr>\n",
       "    <tr>\n",
       "      <th>855</th>\n",
       "      <td>176410694</td>\n",
       "      <td>Dota 2</td>\n",
       "      <td>purchase</td>\n",
       "      <td>1.0</td>\n",
       "      <td>0</td>\n",
       "      <td>dota 2</td>\n",
       "    </tr>\n",
       "    <tr>\n",
       "      <th>...</th>\n",
       "      <td>...</td>\n",
       "      <td>...</td>\n",
       "      <td>...</td>\n",
       "      <td>...</td>\n",
       "      <td>...</td>\n",
       "      <td>...</td>\n",
       "    </tr>\n",
       "    <tr>\n",
       "      <th>99948</th>\n",
       "      <td>284555178</td>\n",
       "      <td>Dota 2</td>\n",
       "      <td>play</td>\n",
       "      <td>0.3</td>\n",
       "      <td>0</td>\n",
       "      <td>dota 2</td>\n",
       "    </tr>\n",
       "    <tr>\n",
       "      <th>99979</th>\n",
       "      <td>243532285</td>\n",
       "      <td>Dota 2</td>\n",
       "      <td>purchase</td>\n",
       "      <td>1.0</td>\n",
       "      <td>0</td>\n",
       "      <td>dota 2</td>\n",
       "    </tr>\n",
       "    <tr>\n",
       "      <th>99980</th>\n",
       "      <td>243532285</td>\n",
       "      <td>Dota 2</td>\n",
       "      <td>play</td>\n",
       "      <td>0.4</td>\n",
       "      <td>0</td>\n",
       "      <td>dota 2</td>\n",
       "    </tr>\n",
       "    <tr>\n",
       "      <th>99981</th>\n",
       "      <td>11731710</td>\n",
       "      <td>Dota 2</td>\n",
       "      <td>purchase</td>\n",
       "      <td>1.0</td>\n",
       "      <td>0</td>\n",
       "      <td>dota 2</td>\n",
       "    </tr>\n",
       "    <tr>\n",
       "      <th>99982</th>\n",
       "      <td>11731710</td>\n",
       "      <td>Dota 2</td>\n",
       "      <td>play</td>\n",
       "      <td>1243.0</td>\n",
       "      <td>0</td>\n",
       "      <td>dota 2</td>\n",
       "    </tr>\n",
       "  </tbody>\n",
       "</table>\n",
       "<p>4770 rows × 6 columns</p>\n",
       "</div>"
      ],
      "text/plain": [
       "              id    game  purchase   hours  user Pre_game\n",
       "42     151603712  Dota 2  purchase     1.0     0   dota 2\n",
       "43     151603712  Dota 2      play     0.5     0   dota 2\n",
       "66     187131847  Dota 2  purchase     1.0     0   dota 2\n",
       "67     187131847  Dota 2      play     2.3     0   dota 2\n",
       "855    176410694  Dota 2  purchase     1.0     0   dota 2\n",
       "...          ...     ...       ...     ...   ...      ...\n",
       "99948  284555178  Dota 2      play     0.3     0   dota 2\n",
       "99979  243532285  Dota 2  purchase     1.0     0   dota 2\n",
       "99980  243532285  Dota 2      play     0.4     0   dota 2\n",
       "99981   11731710  Dota 2  purchase     1.0     0   dota 2\n",
       "99982   11731710  Dota 2      play  1243.0     0   dota 2\n",
       "\n",
       "[4770 rows x 6 columns]"
      ]
     },
     "execution_count": 76,
     "metadata": {},
     "output_type": "execute_result"
    }
   ],
   "source": [
    "# Coverting similar games to a DataFrame\n",
    "similar_games_df = df.iloc[similar_games, :]\n",
    "print(similar_games_df.shape)\n",
    "similar_games_df"
   ]
  }
 ],
 "metadata": {
  "kernelspec": {
   "display_name": "base",
   "language": "python",
   "name": "python3"
  },
  "language_info": {
   "codemirror_mode": {
    "name": "ipython",
    "version": 3
   },
   "file_extension": ".py",
   "mimetype": "text/x-python",
   "name": "python",
   "nbconvert_exporter": "python",
   "pygments_lexer": "ipython3",
   "version": "3.8.18"
  }
 },
 "nbformat": 4,
 "nbformat_minor": 2
}
